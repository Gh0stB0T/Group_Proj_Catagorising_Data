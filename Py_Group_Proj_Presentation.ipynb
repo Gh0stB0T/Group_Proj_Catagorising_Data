{
 "cells": [
  {
   "cell_type": "markdown",
   "id": "d5401fd6",
   "metadata": {
    "slideshow": {
     "slide_type": "slide"
    }
   },
   "source": [
    "# Categorising data: supervised and unsupervised learning in Python"
   ]
  },
  {
   "cell_type": "markdown",
   "id": "9b5203b4",
   "metadata": {
    "slideshow": {
     "slide_type": "slide"
    }
   },
   "source": [
    "### Introduction:\n",
    "\n",
    "Investigation of supervised classification and unsupervised clustering machine learning approaches to data catagorisation.\n",
    "- Supervised **classification**, where all items in a data set are classified into two or more labelled categories. The number of categories and their labels are known in advance.\n",
    "- Unsupervised **clustering**, where the data set is partitioned into a number of *clusters*, based on the similarity between items. The number of categories or labels are *not necessarily* known in advance."
   ]
  },
  {
   "cell_type": "code",
   "execution_count": null,
   "id": "d0715ee5",
   "metadata": {
    "slideshow": {
     "slide_type": "slide"
    }
   },
   "outputs": [],
   "source": [
    "# Dataset: MNIST\n",
    "from sklearn.datasets import load_digits\n",
    "mnist = load_digits() # 1797 images\n",
    "\n",
    "import matplotlib.pyplot as plt\n",
    "plt.gray()\n",
    "for i in range(10):\n",
    "    plt.matshow(mnist.images[i])\n",
    "    plt.show()"
   ]
  },
  {
   "cell_type": "markdown",
   "id": "b208a070",
   "metadata": {
    "slideshow": {
     "slide_type": "slide"
    }
   },
   "source": [
    "## Unsupervised: Hierarchical Clustering"
   ]
  },
  {
   "cell_type": "code",
   "execution_count": null,
   "id": "bf7f8ce1",
   "metadata": {
    "slideshow": {
     "slide_type": "slide"
    }
   },
   "outputs": [],
   "source": [
    "# plotting\n",
    "import numpy as np\n",
    "import matplotlib.pyplot as plt\n",
    "\n",
    "def plot_clustering(embedding, y): # plot clustering\n",
    "    x_min = np.min(embedding, axis = 0)\n",
    "    x_max = np.max(embedding, axis = 0)\n",
    "    plot_embedding = (embedding - x_min) / (x_max - x_min)\n",
    "    \n",
    "    plt.figure(figsize = (6, 4))\n",
    "    for digit in y:\n",
    "        plt.scatter(\n",
    "            *embedding[y == digit].T,\n",
    "            marker=f\"${digit}$\",\n",
    "            s=50,\n",
    "            c=plt.cm.nipy_spectral(clustering.labels_[y == digit] / 10),\n",
    "            alpha=0.5,\n",
    "        )\n",
    "    plt.axis('off')\n",
    "    plt.tight_layout(rect=[0, 0.03, 1, 0.95])\n",
    "\n",
    "# confusion matrix \n",
    "import pandas as pd\n",
    "import seaborn as sns\n",
    "\n",
    "from sklearn.metrics import confusion_matrix, accuracy_score\n",
    "import seaborn as sb\n",
    "import pandas as pd\n",
    "\n",
    "def confusion_matrix_visualisation(y, pred):\n",
    "    cm = confusion_matrix(y, pred, normalize = 'true')\n",
    "    fig, ax = plt.subplots(figsize = (10,8))\n",
    "    sb.heatmap(cm, annot = True, cmap = 'OrRd', fmt = '.1%', ax = ax, vmin = 0, vmax = 1)\n",
    "    ax.set_xlabel('prediction')\n",
    "    ax.set_ylabel('label')"
   ]
  },
  {
   "cell_type": "code",
   "execution_count": null,
   "id": "aeec952f",
   "metadata": {
    "slideshow": {
     "slide_type": "slide"
    }
   },
   "outputs": [],
   "source": [
    "# align clusters with data values (NOTE NOT ALL VALUES ACCOUNTED FOR BY CLUSTERS)\n",
    "from statistics import mode\n",
    "\n",
    "def relabel_clusters(cluster_labels, y):\n",
    "    cluster_0 = []\n",
    "    cluster_1 = []\n",
    "    cluster_2 = []\n",
    "    cluster_3 = []\n",
    "    cluster_4 = []\n",
    "    cluster_5 = []\n",
    "    cluster_6 = []\n",
    "    cluster_7 = []\n",
    "    cluster_8 = []\n",
    "    cluster_9 = []\n",
    "\n",
    "    for i in range(len(cluster_labels)):\n",
    "        if cluster_labels[i] == 0:\n",
    "            cluster_0.append(i) # indices for cluster 0 values\n",
    "        elif cluster_labels[i] == 1:\n",
    "            cluster_1.append(i) # indices for cluster 1 values\n",
    "        elif cluster_labels[i] == 2:\n",
    "            cluster_2.append(i) # indices for cluster 2 values\n",
    "        elif cluster_labels[i] == 3:\n",
    "            cluster_3.append(i) # indices for cluster 3 values\n",
    "        elif cluster_labels[i] == 4:\n",
    "            cluster_4.append(i) # indices for cluster 4 values\n",
    "        elif cluster_labels[i] == 5:\n",
    "            cluster_5.append(i) # indices for cluster 5 values\n",
    "        elif cluster_labels[i] == 6:\n",
    "            cluster_6.append(i) # indices for cluster 6 values\n",
    "        elif cluster_labels[i] == 7:\n",
    "            cluster_7.append(i) # indices for cluster 7 values\n",
    "        elif cluster_labels[i] == 8:\n",
    "            cluster_8.append(i) # indices for cluster 8 values\n",
    "        elif cluster_labels[i] == 9:\n",
    "            cluster_9.append(i) # indices for cluster 9 values\n",
    "    \n",
    "    y_cluster_0 = []\n",
    "    y_cluster_1 = []\n",
    "    y_cluster_2 = []\n",
    "    y_cluster_3 = []\n",
    "    y_cluster_4 = []\n",
    "    y_cluster_5 = []\n",
    "    y_cluster_6 = []\n",
    "    y_cluster_7 = []\n",
    "    y_cluster_8 = []\n",
    "    y_cluster_9 = []\n",
    "\n",
    "    for i in range(len(cluster_0)):\n",
    "        y_cluster_0.append(y[cluster_0[i]]) # find y values for cluster 0\n",
    "\n",
    "    for i in range(len(cluster_1)):\n",
    "        y_cluster_1.append(y[cluster_1[i]]) # find y values for cluster 1\n",
    "\n",
    "    for i in range(len(cluster_2)):\n",
    "        y_cluster_2.append(y[cluster_2[i]]) # find y values for cluster 2\n",
    "\n",
    "    for i in range(len(cluster_3)):\n",
    "        y_cluster_3.append(y[cluster_3[i]]) # find y values for cluster 3\n",
    "\n",
    "    for i in range(len(cluster_4)):\n",
    "        y_cluster_4.append(y[cluster_4[i]]) # find y values for cluster 4\n",
    "\n",
    "    for i in range(len(cluster_5)):\n",
    "        y_cluster_5.append(y[cluster_5[i]]) # find y values for cluster 5\n",
    "\n",
    "    for i in range(len(cluster_6)):\n",
    "        y_cluster_6.append(y[cluster_6[i]]) # find y values for cluster 6\n",
    "\n",
    "    for i in range(len(cluster_7)):\n",
    "        y_cluster_7.append(y[cluster_7[i]]) # find y values for cluster 7\n",
    "\n",
    "    for i in range(len(cluster_8)):\n",
    "        y_cluster_8.append(y[cluster_8[i]]) # find y values for cluster 8\n",
    "\n",
    "    for i in range(len(cluster_9)):\n",
    "        y_cluster_9.append(y[cluster_9[i]]) # find y values for cluster 9\n",
    "\n",
    "    y_cluster_modes = [mode(y_cluster_0), mode(y_cluster_1), mode(y_cluster_2), mode(y_cluster_3), mode(y_cluster_4), mode(y_cluster_5), mode(y_cluster_6), mode(y_cluster_7), mode(y_cluster_8), mode(y_cluster_9)]\n",
    "\n",
    "    pred = []\n",
    "\n",
    "    for i in range(len(cluster_labels)):\n",
    "        pred.append(y_cluster_modes[cluster_labels[i]])\n",
    "    return(pred, y_cluster_modes)"
   ]
  },
  {
   "cell_type": "code",
   "execution_count": null,
   "id": "7bb29b69",
   "metadata": {
    "slideshow": {
     "slide_type": "slide"
    }
   },
   "outputs": [],
   "source": [
    "# data set up\n",
    "from sklearn import manifold\n",
    "from sklearn.cluster import AgglomerativeClustering\n",
    "\n",
    "from sklearn.datasets import load_digits\n",
    "mnist = load_digits() # 1797 images\n",
    "\n",
    "x, y = mnist.data, mnist.target # x contains image data, y contains image labels\n",
    "n_samples, n_features = x.shape # number of samples: images in set; number of features: pixels in image\n",
    "\n",
    "np.random.seed(0)\n",
    "\n",
    "embedding = manifold.SpectralEmbedding(n_components = 2).fit_transform(x)"
   ]
  },
  {
   "cell_type": "code",
   "execution_count": null,
   "id": "553f241f",
   "metadata": {
    "slideshow": {
     "slide_type": "slide"
    }
   },
   "outputs": [],
   "source": [
    "# single linkage - min distances between all observations \n",
    "clustering = AgglomerativeClustering(linkage = 'single', n_clusters = 10) # number of clusters: number of digits\n",
    "clustering.fit(embedding)\n",
    "    \n",
    "# plot\n",
    "plot_clustering(embedding, y)\n",
    "plt.title('single linkage')\n",
    "plt.show()\n",
    "\n",
    "# confusion matrix\n",
    "pred, pred_clusters = relabel_clusters(clustering.labels_, y)\n",
    "cm = confusion_matrix_visualisation(y, pred)\n",
    "print('Accuracy Score: {}'.format(accuracy_score(y, pred, normalize = True)))\n",
    "print('Clusters found: {}'.format(sorted(pred_clusters)))"
   ]
  },
  {
   "cell_type": "code",
   "execution_count": null,
   "id": "14597fb5",
   "metadata": {
    "slideshow": {
     "slide_type": "slide"
    }
   },
   "outputs": [],
   "source": [
    "# average linkage - average distance of each observation\n",
    "clustering = AgglomerativeClustering(linkage = 'average', n_clusters = 10) # number of clusters: number of digits\n",
    "clustering.fit(embedding)\n",
    "    \n",
    "# plot\n",
    "plot_clustering(embedding, y)\n",
    "plt.title('average linkage')\n",
    "plt.show()\n",
    "\n",
    "# confusion matrix\n",
    "pred, pred_clusters = relabel_clusters(clustering.labels_, y)\n",
    "cm = confusion_matrix_visualisation(y, pred)\n",
    "print('Accuracy Score: {}'.format(accuracy_score(y, pred, normalize = True)))\n",
    "print('Clusters found: {}'.format(sorted(pred_clusters)))"
   ]
  },
  {
   "cell_type": "code",
   "execution_count": null,
   "id": "b5c04aef",
   "metadata": {
    "slideshow": {
     "slide_type": "slide"
    }
   },
   "outputs": [],
   "source": [
    "# complete linkage - max distances between all observations\n",
    "clustering = AgglomerativeClustering(linkage = 'complete', n_clusters = 10) # number of clusters: number of digits\n",
    "clustering.fit(embedding)\n",
    "    \n",
    "# plot\n",
    "plot_clustering(embedding, y)\n",
    "plt.title('complete linkage')\n",
    "plt.show()\n",
    "\n",
    "# confusion matrix\n",
    "pred, pred_clusters = relabel_clusters(clustering.labels_, y)\n",
    "cm = confusion_matrix_visualisation(y, pred)\n",
    "print('Accuracy Score: {}'.format(accuracy_score(y, pred, normalize = True)))\n",
    "print('Clusters found: {}'.format(sorted(pred_clusters)))"
   ]
  },
  {
   "cell_type": "code",
   "execution_count": null,
   "id": "8c0cf40e",
   "metadata": {
    "slideshow": {
     "slide_type": "slide"
    }
   },
   "outputs": [],
   "source": [
    "# ward linkage - min variance in clusters being merged\n",
    "clustering = AgglomerativeClustering(linkage = 'ward', n_clusters = 10) # number of clusters: number of digits\n",
    "clustering.fit(embedding)\n",
    "    \n",
    "# plot\n",
    "plot_clustering(embedding, y)\n",
    "plt.title('ward linkage')\n",
    "plt.show()\n",
    "\n",
    "# confusion matrix\n",
    "pred, pred_clusters = relabel_clusters(clustering.labels_, y)\n",
    "cm = confusion_matrix_visualisation(y, pred)\n",
    "print('Accuracy Score: {}'.format(accuracy_score(y, pred, normalize = True)))\n",
    "print('Clusters found: {}'.format(sorted(pred_clusters)))"
   ]
  },
  {
   "cell_type": "markdown",
   "id": "eb4e9c2a",
   "metadata": {
    "slideshow": {
     "slide_type": "slide"
    }
   },
   "source": [
    "## Unsupervised: K-means Clustering"
   ]
  },
  {
   "cell_type": "markdown",
   "id": "41a10f3e",
   "metadata": {
    "slideshow": {
     "slide_type": "slide"
    }
   },
   "source": [
    "## Supervised: k-NN"
   ]
  },
  {
   "cell_type": "markdown",
   "id": "e75e1d88",
   "metadata": {
    "slideshow": {
     "slide_type": "slide"
    }
   },
   "source": [
    "## Supervised: FCNN"
   ]
  },
  {
   "cell_type": "markdown",
   "id": "f0b1b3f9",
   "metadata": {
    "slideshow": {
     "slide_type": "slide"
    }
   },
   "source": [
    "### Conclusion:\n"
   ]
  }
 ],
 "metadata": {
  "celltoolbar": "Slideshow",
  "kernelspec": {
   "display_name": "Python 3 (ipykernel)",
   "language": "python",
   "name": "python3"
  },
  "language_info": {
   "codemirror_mode": {
    "name": "ipython",
    "version": 3
   },
   "file_extension": ".py",
   "mimetype": "text/x-python",
   "name": "python",
   "nbconvert_exporter": "python",
   "pygments_lexer": "ipython3",
   "version": "3.11.4"
  }
 },
 "nbformat": 4,
 "nbformat_minor": 5
}
